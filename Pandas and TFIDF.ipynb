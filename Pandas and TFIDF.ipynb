{
 "cells": [
  {
   "cell_type": "code",
   "execution_count": 1,
   "metadata": {
    "collapsed": false
   },
   "outputs": [],
   "source": [
    "import spacy\n",
    "import pandas as pd\n",
    "import math\n",
    "from nltk.corpus import stopwords\n",
    "import os\n",
    "import glob\n",
    "import codecs\n",
    "nlp = spacy.load('en_core_web_lg')"
   ]
  },
  {
   "cell_type": "markdown",
   "metadata": {},
   "source": [
    "# TF- IDF \n",
    "\n",
    "tf = (frequency of term in the doc/total number of terms in the doc) \n",
    "\n",
    "idf = ln(total number of docs/number of docs with term in it)\n",
    "\n",
    "\n",
    "<b> S. Sareen and S. Sareen, “Process Text using TFIDF in Python,” Towards Data Science, 07-Aug-2018. [Online]. Available: https://towardsdatascience.com/tfidf-for-piece-of-text-in-python-43feccaa74f8. [Accessed: 08-May-2019]. <b>\n",
    "\n",
    "\n"
   ]
  },
  {
   "cell_type": "code",
   "execution_count": 2,
   "metadata": {
    "collapsed": true
   },
   "outputs": [],
   "source": [
    "#using spacy to perform tokenization of the text\n",
    "def extract_words(text,fname=\"\"):\n",
    "    stop_words = set(stopwords.words('english'))\n",
    "    words = []\n",
    "    doc = nlp(text)\n",
    "    for token in doc:\n",
    "        words.append(token.text)\n",
    "    non_stop_sentence = [w for w in words if not w in stop_words] \n",
    "    return(non_stop_sentence)"
   ]
  },
  {
   "cell_type": "code",
   "execution_count": 3,
   "metadata": {
    "collapsed": true
   },
   "outputs": [],
   "source": [
    "#function to count words in the text\n",
    "def count_words(text):\n",
    "    w = extract_words(text)\n",
    "    return (len(w))"
   ]
  },
  {
   "cell_type": "code",
   "execution_count": 4,
   "metadata": {
    "collapsed": false
   },
   "outputs": [
    {
     "name": "stdout",
     "output_type": "stream",
     "text": [
      "Enter Document directory \n"
     ]
    }
   ],
   "source": [
    "corpus_words = []\n",
    "path = input(\"Enter Document directory \")\n",
    "if path == \"\":\n",
    "    path = \"<give some relevant default path>\"\n",
    "    \n",
    "os.chdir(path)\n",
    "\n",
    "for filename in glob.glob(\"*.txt\"):\n",
    "    f = codecs.open(filename,'r','ISO-8859-1')\n",
    "    file = f.read()\n",
    "    len_w = count_words(file)\n",
    "    corpus_words.append({'doc':filename,'count':len_w,'text':file})"
   ]
  },
  {
   "cell_type": "code",
   "execution_count": 5,
   "metadata": {
    "collapsed": true
   },
   "outputs": [],
   "source": [
    "def get_word_frequency(text,docname):\n",
    "    word_freq_dict={}\n",
    "    words = extract_words(text)\n",
    "    for word in words:\n",
    "        word = word.lower()\n",
    "        if word in word_freq_dict:\n",
    "            word_freq_dict[word] += 1\n",
    "        else:\n",
    "            word_freq_dict[word] = 1\n",
    "    temp ={'doc' : docname , 'freq_dict': word_freq_dict}\n",
    "    return temp"
   ]
  },
  {
   "cell_type": "code",
   "execution_count": 6,
   "metadata": {
    "collapsed": false
   },
   "outputs": [],
   "source": [
    "word_count_list = []\n",
    "for i in corpus_words:\n",
    "    l = get_word_frequency(i['text'],i['doc'])\n",
    "    word_count_list.append(l)"
   ]
  },
  {
   "cell_type": "code",
   "execution_count": 7,
   "metadata": {
    "collapsed": true
   },
   "outputs": [],
   "source": [
    "def calculate_TF_score(corpus_words,word_count_list):\n",
    "    TF_scores =[]\n",
    "    for i in range(0,len(word_count_list)):\n",
    "        docname = word_count_list[i]['doc']\n",
    "        for k in word_count_list[i]['freq_dict']:\n",
    "            temp = {'doc': docname,\n",
    "                   'TF_score': word_count_list[i]['freq_dict'][k]/corpus_words[i]['count'],\n",
    "                   'key':k}\n",
    "            TF_scores.append(temp)\n",
    "        i += 1\n",
    "    return TF_scores"
   ]
  },
  {
   "cell_type": "code",
   "execution_count": 8,
   "metadata": {
    "collapsed": true
   },
   "outputs": [],
   "source": [
    "def calculate_IDF_score(corpus_words,word_count_list):\n",
    "    IDF_scores =[]\n",
    "    for dict in word_count_list:\n",
    "        docname = dict['doc']\n",
    "        for k in dict['freq_dict'].keys():\n",
    "            count = sum([k in temp['freq_dict'] for temp in word_count_list])\n",
    "            temp = {'doc': docname,'IDF_score': math.log(len(corpus_words)/count),'key' : k}\n",
    "            \n",
    "            IDF_scores.append(temp)\n",
    "    return IDF_scores"
   ]
  },
  {
   "cell_type": "code",
   "execution_count": 9,
   "metadata": {
    "collapsed": true
   },
   "outputs": [],
   "source": [
    "tf = calculate_TF_score(corpus_words,word_count_list)"
   ]
  },
  {
   "cell_type": "code",
   "execution_count": 10,
   "metadata": {
    "collapsed": true
   },
   "outputs": [],
   "source": [
    "idf = calculate_IDF_score(corpus_words,word_count_list)"
   ]
  },
  {
   "cell_type": "code",
   "execution_count": 11,
   "metadata": {
    "collapsed": true
   },
   "outputs": [],
   "source": [
    "tf_dataframe = pd.DataFrame(tf)\n",
    "idf_dataframe = pd.DataFrame(idf)"
   ]
  },
  {
   "cell_type": "code",
   "execution_count": 12,
   "metadata": {
    "collapsed": false
   },
   "outputs": [
    {
     "data": {
      "text/html": [
       "<div>\n",
       "<style>\n",
       "    .dataframe thead tr:only-child th {\n",
       "        text-align: right;\n",
       "    }\n",
       "\n",
       "    .dataframe thead th {\n",
       "        text-align: left;\n",
       "    }\n",
       "\n",
       "    .dataframe tbody tr th {\n",
       "        vertical-align: top;\n",
       "    }\n",
       "</style>\n",
       "<table border=\"1\" class=\"dataframe\">\n",
       "  <thead>\n",
       "    <tr style=\"text-align: right;\">\n",
       "      <th></th>\n",
       "      <th>TF_score</th>\n",
       "      <th>doc</th>\n",
       "      <th>key</th>\n",
       "    </tr>\n",
       "  </thead>\n",
       "  <tbody>\n",
       "    <tr>\n",
       "      <th>0</th>\n",
       "      <td>0.001374</td>\n",
       "      <td>AbrahamLincoln.txt</td>\n",
       "      <td>family</td>\n",
       "    </tr>\n",
       "    <tr>\n",
       "      <th>1</th>\n",
       "      <td>0.000092</td>\n",
       "      <td>AbrahamLincoln.txt</td>\n",
       "      <td>inspection</td>\n",
       "    </tr>\n",
       "    <tr>\n",
       "      <th>2</th>\n",
       "      <td>0.000183</td>\n",
       "      <td>AbrahamLincoln.txt</td>\n",
       "      <td>she</td>\n",
       "    </tr>\n",
       "    <tr>\n",
       "      <th>3</th>\n",
       "      <td>0.000183</td>\n",
       "      <td>AbrahamLincoln.txt</td>\n",
       "      <td>chicago</td>\n",
       "    </tr>\n",
       "    <tr>\n",
       "      <th>4</th>\n",
       "      <td>0.000092</td>\n",
       "      <td>AbrahamLincoln.txt</td>\n",
       "      <td>obvious</td>\n",
       "    </tr>\n",
       "    <tr>\n",
       "      <th>5</th>\n",
       "      <td>0.000092</td>\n",
       "      <td>AbrahamLincoln.txt</td>\n",
       "      <td>matteson</td>\n",
       "    </tr>\n",
       "    <tr>\n",
       "      <th>6</th>\n",
       "      <td>0.000825</td>\n",
       "      <td>AbrahamLincoln.txt</td>\n",
       "      <td>popular</td>\n",
       "    </tr>\n",
       "    <tr>\n",
       "      <th>7</th>\n",
       "      <td>0.000092</td>\n",
       "      <td>AbrahamLincoln.txt</td>\n",
       "      <td>touched</td>\n",
       "    </tr>\n",
       "    <tr>\n",
       "      <th>8</th>\n",
       "      <td>0.000183</td>\n",
       "      <td>AbrahamLincoln.txt</td>\n",
       "      <td>recalled</td>\n",
       "    </tr>\n",
       "    <tr>\n",
       "      <th>9</th>\n",
       "      <td>0.000092</td>\n",
       "      <td>AbrahamLincoln.txt</td>\n",
       "      <td>mill</td>\n",
       "    </tr>\n",
       "  </tbody>\n",
       "</table>\n",
       "</div>"
      ],
      "text/plain": [
       "   TF_score                 doc         key\n",
       "0  0.001374  AbrahamLincoln.txt      family\n",
       "1  0.000092  AbrahamLincoln.txt  inspection\n",
       "2  0.000183  AbrahamLincoln.txt         she\n",
       "3  0.000183  AbrahamLincoln.txt     chicago\n",
       "4  0.000092  AbrahamLincoln.txt     obvious\n",
       "5  0.000092  AbrahamLincoln.txt    matteson\n",
       "6  0.000825  AbrahamLincoln.txt     popular\n",
       "7  0.000092  AbrahamLincoln.txt     touched\n",
       "8  0.000183  AbrahamLincoln.txt    recalled\n",
       "9  0.000092  AbrahamLincoln.txt        mill"
      ]
     },
     "execution_count": 12,
     "metadata": {},
     "output_type": "execute_result"
    }
   ],
   "source": [
    "tf_dataframe.head(10)"
   ]
  },
  {
   "cell_type": "code",
   "execution_count": 13,
   "metadata": {
    "collapsed": false
   },
   "outputs": [
    {
     "data": {
      "text/html": [
       "<div>\n",
       "<style>\n",
       "    .dataframe thead tr:only-child th {\n",
       "        text-align: right;\n",
       "    }\n",
       "\n",
       "    .dataframe thead th {\n",
       "        text-align: left;\n",
       "    }\n",
       "\n",
       "    .dataframe tbody tr th {\n",
       "        vertical-align: top;\n",
       "    }\n",
       "</style>\n",
       "<table border=\"1\" class=\"dataframe\">\n",
       "  <thead>\n",
       "    <tr style=\"text-align: right;\">\n",
       "      <th></th>\n",
       "      <th>IDF_score</th>\n",
       "      <th>doc</th>\n",
       "      <th>key</th>\n",
       "    </tr>\n",
       "  </thead>\n",
       "  <tbody>\n",
       "    <tr>\n",
       "      <th>0</th>\n",
       "      <td>0.223144</td>\n",
       "      <td>AbrahamLincoln.txt</td>\n",
       "      <td>family</td>\n",
       "    </tr>\n",
       "    <tr>\n",
       "      <th>1</th>\n",
       "      <td>2.302585</td>\n",
       "      <td>AbrahamLincoln.txt</td>\n",
       "      <td>inspection</td>\n",
       "    </tr>\n",
       "    <tr>\n",
       "      <th>2</th>\n",
       "      <td>1.609438</td>\n",
       "      <td>AbrahamLincoln.txt</td>\n",
       "      <td>she</td>\n",
       "    </tr>\n",
       "    <tr>\n",
       "      <th>3</th>\n",
       "      <td>0.628609</td>\n",
       "      <td>AbrahamLincoln.txt</td>\n",
       "      <td>chicago</td>\n",
       "    </tr>\n",
       "    <tr>\n",
       "      <th>4</th>\n",
       "      <td>2.708050</td>\n",
       "      <td>AbrahamLincoln.txt</td>\n",
       "      <td>obvious</td>\n",
       "    </tr>\n",
       "    <tr>\n",
       "      <th>5</th>\n",
       "      <td>3.401197</td>\n",
       "      <td>AbrahamLincoln.txt</td>\n",
       "      <td>matteson</td>\n",
       "    </tr>\n",
       "    <tr>\n",
       "      <th>6</th>\n",
       "      <td>0.567984</td>\n",
       "      <td>AbrahamLincoln.txt</td>\n",
       "      <td>popular</td>\n",
       "    </tr>\n",
       "    <tr>\n",
       "      <th>7</th>\n",
       "      <td>2.708050</td>\n",
       "      <td>AbrahamLincoln.txt</td>\n",
       "      <td>touched</td>\n",
       "    </tr>\n",
       "    <tr>\n",
       "      <th>8</th>\n",
       "      <td>1.455287</td>\n",
       "      <td>AbrahamLincoln.txt</td>\n",
       "      <td>recalled</td>\n",
       "    </tr>\n",
       "    <tr>\n",
       "      <th>9</th>\n",
       "      <td>2.302585</td>\n",
       "      <td>AbrahamLincoln.txt</td>\n",
       "      <td>mill</td>\n",
       "    </tr>\n",
       "  </tbody>\n",
       "</table>\n",
       "</div>"
      ],
      "text/plain": [
       "   IDF_score                 doc         key\n",
       "0   0.223144  AbrahamLincoln.txt      family\n",
       "1   2.302585  AbrahamLincoln.txt  inspection\n",
       "2   1.609438  AbrahamLincoln.txt         she\n",
       "3   0.628609  AbrahamLincoln.txt     chicago\n",
       "4   2.708050  AbrahamLincoln.txt     obvious\n",
       "5   3.401197  AbrahamLincoln.txt    matteson\n",
       "6   0.567984  AbrahamLincoln.txt     popular\n",
       "7   2.708050  AbrahamLincoln.txt     touched\n",
       "8   1.455287  AbrahamLincoln.txt    recalled\n",
       "9   2.302585  AbrahamLincoln.txt        mill"
      ]
     },
     "execution_count": 13,
     "metadata": {},
     "output_type": "execute_result"
    }
   ],
   "source": [
    "idf_dataframe.head(10)"
   ]
  },
  {
   "cell_type": "code",
   "execution_count": 14,
   "metadata": {
    "collapsed": true
   },
   "outputs": [],
   "source": [
    "tfidf = pd.merge(tf_dataframe, idf_dataframe)"
   ]
  },
  {
   "cell_type": "code",
   "execution_count": 15,
   "metadata": {
    "collapsed": true
   },
   "outputs": [],
   "source": [
    "tfidf['TFIDF_score'] = tfidf['TF_score']*tfidf['IDF_score']"
   ]
  },
  {
   "cell_type": "code",
   "execution_count": 16,
   "metadata": {
    "collapsed": false
   },
   "outputs": [
    {
     "data": {
      "text/html": [
       "<div>\n",
       "<style>\n",
       "    .dataframe thead tr:only-child th {\n",
       "        text-align: right;\n",
       "    }\n",
       "\n",
       "    .dataframe thead th {\n",
       "        text-align: left;\n",
       "    }\n",
       "\n",
       "    .dataframe tbody tr th {\n",
       "        vertical-align: top;\n",
       "    }\n",
       "</style>\n",
       "<table border=\"1\" class=\"dataframe\">\n",
       "  <thead>\n",
       "    <tr style=\"text-align: right;\">\n",
       "      <th></th>\n",
       "      <th>TF_score</th>\n",
       "      <th>doc</th>\n",
       "      <th>key</th>\n",
       "      <th>IDF_score</th>\n",
       "      <th>TFIDF_score</th>\n",
       "    </tr>\n",
       "  </thead>\n",
       "  <tbody>\n",
       "    <tr>\n",
       "      <th>0</th>\n",
       "      <td>0.001374</td>\n",
       "      <td>AbrahamLincoln.txt</td>\n",
       "      <td>family</td>\n",
       "      <td>0.223144</td>\n",
       "      <td>0.000307</td>\n",
       "    </tr>\n",
       "    <tr>\n",
       "      <th>1</th>\n",
       "      <td>0.000092</td>\n",
       "      <td>AbrahamLincoln.txt</td>\n",
       "      <td>inspection</td>\n",
       "      <td>2.302585</td>\n",
       "      <td>0.000211</td>\n",
       "    </tr>\n",
       "    <tr>\n",
       "      <th>2</th>\n",
       "      <td>0.000183</td>\n",
       "      <td>AbrahamLincoln.txt</td>\n",
       "      <td>she</td>\n",
       "      <td>1.609438</td>\n",
       "      <td>0.000295</td>\n",
       "    </tr>\n",
       "    <tr>\n",
       "      <th>3</th>\n",
       "      <td>0.000183</td>\n",
       "      <td>AbrahamLincoln.txt</td>\n",
       "      <td>chicago</td>\n",
       "      <td>0.628609</td>\n",
       "      <td>0.000115</td>\n",
       "    </tr>\n",
       "    <tr>\n",
       "      <th>4</th>\n",
       "      <td>0.000092</td>\n",
       "      <td>AbrahamLincoln.txt</td>\n",
       "      <td>obvious</td>\n",
       "      <td>2.708050</td>\n",
       "      <td>0.000248</td>\n",
       "    </tr>\n",
       "  </tbody>\n",
       "</table>\n",
       "</div>"
      ],
      "text/plain": [
       "   TF_score                 doc         key  IDF_score  TFIDF_score\n",
       "0  0.001374  AbrahamLincoln.txt      family   0.223144     0.000307\n",
       "1  0.000092  AbrahamLincoln.txt  inspection   2.302585     0.000211\n",
       "2  0.000183  AbrahamLincoln.txt         she   1.609438     0.000295\n",
       "3  0.000183  AbrahamLincoln.txt     chicago   0.628609     0.000115\n",
       "4  0.000092  AbrahamLincoln.txt     obvious   2.708050     0.000248"
      ]
     },
     "execution_count": 16,
     "metadata": {},
     "output_type": "execute_result"
    }
   ],
   "source": [
    "tfidf.head()"
   ]
  },
  {
   "cell_type": "code",
   "execution_count": 17,
   "metadata": {
    "collapsed": false
   },
   "outputs": [
    {
     "data": {
      "text/plain": [
       "(73182, 5)"
      ]
     },
     "execution_count": 17,
     "metadata": {},
     "output_type": "execute_result"
    }
   ],
   "source": [
    "tfidf.shape"
   ]
  },
  {
   "cell_type": "code",
   "execution_count": 18,
   "metadata": {
    "collapsed": true
   },
   "outputs": [],
   "source": [
    "tfidf.set_index(\"key\", inplace=True)"
   ]
  },
  {
   "cell_type": "code",
   "execution_count": 19,
   "metadata": {
    "collapsed": false
   },
   "outputs": [
    {
     "data": {
      "text/html": [
       "<div>\n",
       "<style>\n",
       "    .dataframe thead tr:only-child th {\n",
       "        text-align: right;\n",
       "    }\n",
       "\n",
       "    .dataframe thead th {\n",
       "        text-align: left;\n",
       "    }\n",
       "\n",
       "    .dataframe tbody tr th {\n",
       "        vertical-align: top;\n",
       "    }\n",
       "</style>\n",
       "<table border=\"1\" class=\"dataframe\">\n",
       "  <thead>\n",
       "    <tr style=\"text-align: right;\">\n",
       "      <th></th>\n",
       "      <th>TF_score</th>\n",
       "      <th>doc</th>\n",
       "      <th>IDF_score</th>\n",
       "      <th>TFIDF_score</th>\n",
       "    </tr>\n",
       "    <tr>\n",
       "      <th>key</th>\n",
       "      <th></th>\n",
       "      <th></th>\n",
       "      <th></th>\n",
       "      <th></th>\n",
       "    </tr>\n",
       "  </thead>\n",
       "  <tbody>\n",
       "    <tr>\n",
       "      <th>family</th>\n",
       "      <td>0.001374</td>\n",
       "      <td>AbrahamLincoln.txt</td>\n",
       "      <td>0.223144</td>\n",
       "      <td>0.000307</td>\n",
       "    </tr>\n",
       "    <tr>\n",
       "      <th>inspection</th>\n",
       "      <td>0.000092</td>\n",
       "      <td>AbrahamLincoln.txt</td>\n",
       "      <td>2.302585</td>\n",
       "      <td>0.000211</td>\n",
       "    </tr>\n",
       "    <tr>\n",
       "      <th>she</th>\n",
       "      <td>0.000183</td>\n",
       "      <td>AbrahamLincoln.txt</td>\n",
       "      <td>1.609438</td>\n",
       "      <td>0.000295</td>\n",
       "    </tr>\n",
       "    <tr>\n",
       "      <th>chicago</th>\n",
       "      <td>0.000183</td>\n",
       "      <td>AbrahamLincoln.txt</td>\n",
       "      <td>0.628609</td>\n",
       "      <td>0.000115</td>\n",
       "    </tr>\n",
       "    <tr>\n",
       "      <th>obvious</th>\n",
       "      <td>0.000092</td>\n",
       "      <td>AbrahamLincoln.txt</td>\n",
       "      <td>2.708050</td>\n",
       "      <td>0.000248</td>\n",
       "    </tr>\n",
       "  </tbody>\n",
       "</table>\n",
       "</div>"
      ],
      "text/plain": [
       "            TF_score                 doc  IDF_score  TFIDF_score\n",
       "key                                                             \n",
       "family      0.001374  AbrahamLincoln.txt   0.223144     0.000307\n",
       "inspection  0.000092  AbrahamLincoln.txt   2.302585     0.000211\n",
       "she         0.000183  AbrahamLincoln.txt   1.609438     0.000295\n",
       "chicago     0.000183  AbrahamLincoln.txt   0.628609     0.000115\n",
       "obvious     0.000092  AbrahamLincoln.txt   2.708050     0.000248"
      ]
     },
     "execution_count": 19,
     "metadata": {},
     "output_type": "execute_result"
    }
   ],
   "source": [
    "tfidf.head()"
   ]
  },
  {
   "cell_type": "code",
   "execution_count": 20,
   "metadata": {
    "collapsed": false
   },
   "outputs": [
    {
     "name": "stdout",
     "output_type": "stream",
     "text": [
      "      TF_score                  doc  IDF_score  TFIDF_score\n",
      "key                                                        \n",
      "at&t  0.000384         AppleInc.txt   1.609438     0.000618\n",
      "at&t  0.046399             AT_T.txt   1.609438     0.074677\n",
      "at&t  0.000688           Dallas.txt   1.609438     0.001107\n",
      "at&t  0.000417              IBM.txt   1.609438     0.000672\n",
      "at&t  0.000261  Rchardson_Texas.txt   1.609438     0.000420\n",
      "at&t  0.000074            Texas.txt   1.609438     0.000119\n"
     ]
    }
   ],
   "source": [
    "#testing for the TF-IDF\n",
    "m = \"at&t\"\n",
    "if m in tfidf.index:\n",
    "    print(tfidf.loc[m])"
   ]
  },
  {
   "cell_type": "code",
   "execution_count": null,
   "metadata": {
    "collapsed": true
   },
   "outputs": [],
   "source": []
  }
 ],
 "metadata": {
  "kernelspec": {
   "display_name": "Python 3",
   "language": "python",
   "name": "python3"
  },
  "language_info": {
   "codemirror_mode": {
    "name": "ipython",
    "version": 3
   },
   "file_extension": ".py",
   "mimetype": "text/x-python",
   "name": "python",
   "nbconvert_exporter": "python",
   "pygments_lexer": "ipython3",
   "version": "3.5.2"
  }
 },
 "nbformat": 4,
 "nbformat_minor": 2
}
